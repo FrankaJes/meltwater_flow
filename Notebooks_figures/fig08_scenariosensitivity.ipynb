{
 "cells": [
  {
   "cell_type": "code",
   "execution_count": null,
   "metadata": {},
   "outputs": [],
   "source": [
    "import numpy as np\n",
    "import xarray as xr\n",
    "import matplotlib as mpl\n",
    "import matplotlib.pyplot as plt\n",
    "import cmocean as cmo\n",
    "import pandas as pd\n",
    "import matplotlib.animation as animation\n",
    "from matplotlib.colors import LightSource\n",
    "from matplotlib import cm\n",
    "from matplotlib.lines import Line2D\n",
    "from matplotlib.gridspec import GridSpec"
   ]
  },
  {
   "cell_type": "code",
   "execution_count": null,
   "metadata": {},
   "outputs": [],
   "source": [
    "# This notebook uses the full datasets (output frequency of .125 yr) instead of the compressed datasets (output frequency of 10 yr)\n",
    "# For access to the full datasets or any related inquiries, please contact Franka Jesse at t.f.jesse@uu.nl\n",
    " \n",
    "data_dir = '/Volumes/T7/P1_DIR/Model_output'\n",
    "\n",
    "exp_mod_modt = ['P1_MEDIUM_laddie_NOcalving_rhoice_concat', 'P1_MEDIUM_QUAD_NOcalving', 'P1_MEDIUM_PICO_NOcalving_C023', 'P1_MEDIUM_PLUME_NOcalving']\n",
    "exp_mod_higt = ['P1_MEDIUM_laddie_NOcalving_rhoice_concat', 'P1_MEDIUM_QUAD_NOcalving_hightune', 'P1_MEDIUM_PICO_NOcalving_C023_hightune', 'P1_MEDIUM_PLUME_NOcalving_hightune']\n",
    "exp_hig_higt = ['P1_WARM_laddie_NOcalving_rhoice_concat', 'P1_WARM_QUAD_NOcalving', 'P1_WARM_PICO_NOcalving_C023', 'P1_WARM_PLUME_NOcalving']\n",
    "exp_hig_modt = ['P1_WARM_laddie_NOcalving_rhoice_concat', 'P1_WARM_QUAD_NOcalving_modtune', 'P1_WARM_PICO_NOcalving_C023_modtune', 'P1_WARM_PLUME_NOcalving_modtune']\n",
    "\n",
    "exp_mod_modt_calving = ['P1_MEDIUM_laddie_rhoice_concat', 'P1_MEDIUM_QUAD', 'P1_MEDIUM_PICO_C023', 'P1_MEDIUM_PLUME']\n",
    "exp_hig_modt_calving = ['P1_WARM_laddie_rhoice_concat', 'P1_WARM_QUAD_modtune', 'P1_WARM_PICO_C023_modtune', 'P1_WARM_PLUME_modtune']"
   ]
  },
  {
   "cell_type": "code",
   "execution_count": null,
   "metadata": {},
   "outputs": [],
   "source": [
    "lws=[3,2,2,2]\n",
    "labels = ['LA', 'QU', 'PI', 'PL',]\n",
    "colors = ['C3', 'C9', 'C8', 'C7']\n",
    "alphs = [1, 1, 0]\n",
    "ls = ['solid', 'solid', 'dashed']"
   ]
  },
  {
   "cell_type": "code",
   "execution_count": null,
   "metadata": {},
   "outputs": [],
   "source": [
    "fig = plt.figure(figsize=(5,3), dpi=300)\n",
    "gs = GridSpec(1,1)\n",
    "\n",
    "ax = fig.add_subplot(gs[0])\n",
    "\n",
    "for i in range(4):\n",
    "    dsmod = xr.open_dataset(f'{data_dir}/../PostProcess/VAF_{exp_mod_modt[i]}.nc')\n",
    "    dshig = xr.open_dataset(f'{data_dir}/../PostProcess/VAF_{exp_hig_modt[i]}.nc')\n",
    "\n",
    "    VAF_diff_mod = -1*(dsmod.VAF-dsmod.VAF[0])\n",
    "    VAF_diff_hig = -1*(dshig.VAF-dshig.VAF[0])\n",
    "\n",
    "    diff_mod_hig = VAF_diff_hig-VAF_diff_mod\n",
    "\n",
    "    VAF_perc = diff_mod_hig#/VAF_diff_mod\n",
    "    \n",
    "    ax.plot(dsmod.time.values, VAF_perc, color=colors[i], lw=lws[i])\n",
    "\n",
    "\n",
    "ax.grid(True, alpha=0.2, ls='dashed')\n",
    "ax.vlines(200, -100000, 900000, zorder=1, color='k', lw=2, alpha=0.8)\n",
    "ax.vlines(1000, -100000, 900000, zorder=1, color='k', lw=4, alpha=0.8)\n",
    "ax.set_xlim(0,1000)\n",
    "ax.set_ylim(-1000,8000)\n",
    "\n",
    "# ax.set_title('Scenario sensitivity')\n",
    "ax.set_ylabel(r\"$\\Delta$VAF$_{\\text{high-mod}}\\;$ [Gt]\") #Additional VAF loss\\nin high scenario\n",
    "ax.set_xlabel('Model year')\n",
    "\n",
    "lineLA = Line2D([0], [0], lw=3, label='LADDIE', color='C3')\n",
    "lineQU = Line2D([0], [0], lw=2, label='Quadratic', color='C9')\n",
    "linePI = Line2D([0], [0], lw=2, label='PICO', color='C8')\n",
    "linePL = Line2D([0], [0], lw=2, label='Plume', color='C7')\n",
    "\n",
    "legend = ax.legend(handles=[lineLA, lineQU, linePI, linePL],bbox_to_anchor=(1.050, .95) ,loc='upper left')\n",
    "for text, handle in zip(legend.get_texts(), [lineLA, lineQU, linePI, linePL]):\n",
    "    text.set_color(handle.get_color())\n",
    "    text.set_fontweight(\"bold\")         # Make label bold\n",
    "\n",
    "\n",
    "fig.savefig('fig08.pdf', dpi=300, bbox_inches='tight')"
   ]
  }
 ],
 "metadata": {
  "kernelspec": {
   "display_name": "firstEnv",
   "language": "python",
   "name": "firstenv"
  },
  "language_info": {
   "codemirror_mode": {
    "name": "ipython",
    "version": 3
   },
   "file_extension": ".py",
   "mimetype": "text/x-python",
   "name": "python",
   "nbconvert_exporter": "python",
   "pygments_lexer": "ipython3",
   "version": "3.9.18"
  }
 },
 "nbformat": 4,
 "nbformat_minor": 2
}
