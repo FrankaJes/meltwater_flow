{
 "cells": [
  {
   "cell_type": "code",
   "execution_count": 1,
   "metadata": {},
   "outputs": [
    {
     "name": "stdout",
     "output_type": "stream",
     "text": [
      "Intel MKL WARNING: Support of Intel(R) Streaming SIMD Extensions 4.2 (Intel(R) SSE4.2) enabled only processors has been deprecated. Intel oneAPI Math Kernel Library 2025.0 will require Intel(R) Advanced Vector Extensions (Intel(R) AVX) instructions.\n",
      "Intel MKL WARNING: Support of Intel(R) Streaming SIMD Extensions 4.2 (Intel(R) SSE4.2) enabled only processors has been deprecated. Intel oneAPI Math Kernel Library 2025.0 will require Intel(R) Advanced Vector Extensions (Intel(R) AVX) instructions.\n"
     ]
    }
   ],
   "source": [
    "import numpy as np\n",
    "import xarray as xr\n",
    "import matplotlib as mpl\n",
    "import matplotlib.pyplot as plt\n",
    "import cmocean as cmo\n",
    "import pandas as pd\n",
    "import matplotlib.animation as animation\n",
    "from matplotlib.colors import LightSource\n",
    "from matplotlib import cm"
   ]
  },
  {
   "cell_type": "code",
   "execution_count": null,
   "metadata": {},
   "outputs": [],
   "source": [
    "## Function to compute exact grounding line position from f_grnd\n",
    "\n",
    "def find_exact_GL_position(ds_hf, y_coord, add_to_xarray=False, save_to_netcdf=False, savepath=None):\n",
    "\n",
    "    # Create empty array, same length as time array\n",
    "    GL_position = np.zeros([len(ds_hf.time.values)])\n",
    "    \n",
    "    # Iterate over all time steps in output\n",
    "    for i,t in enumerate(ds_hf.time.values):\n",
    "        \n",
    "        # For first time step, the f_grnd variable is not computed. Use the last time step of spinup instead.\n",
    "        if i == 0:\n",
    "            GL_position[i] = 51004.59816957 # initial grounding line from spinup\n",
    "        \n",
    "        # For other time steps, select the right y coordinate and locate at which location the value of f_grnd is > 0 but < 1\n",
    "        else:\n",
    "            ds_hf_fgrnd_y = ds_hf.sel(y=y_coord, time=t).f_grnd\n",
    "            ds_hf_fgrnd_y = ds_hf_fgrnd_y.where(np.logical_and(ds_hf_fgrnd_y>0,ds_hf_fgrnd_y<1), drop=True)\n",
    "            # If there are two values for which the above condition is true, set fraction to 1 (safety)\n",
    "            if len(ds_hf_fgrnd_y.values)>1:\n",
    "                frac = 1\n",
    "            else:\n",
    "                try:\n",
    "                    frac = ds_hf_fgrnd_y.values[0]\n",
    "                except:\n",
    "                    frac = 1\n",
    "            # Compute the GL_position based on the floating fraction. When 90% of the cell is afloat --> GL position is the x value at which 0 < f_grnd < 1 + 10% of the grid cell length \n",
    "            try:\n",
    "                GL_pos_y = frac * 2000 + ds_hf_fgrnd_y.x.values[0]\n",
    "            except: \n",
    "                print('use previous GL_pos_y')            \n",
    "            GL_position[i] = GL_pos_y\n",
    "\n",
    "    # Add to the file if wanted\n",
    "    if add_to_xarray == True:\n",
    "        ds_hf = ds_hf.assign(GLpos=(('time',), GL_position))\n",
    "        ds_GL = ds_hf['GLpos']\n",
    "\n",
    "        # Save to netcdf file if wanted\n",
    "        if save_to_netcdf == True:\n",
    "            ds_GL.to_netcdf(savepath)\n",
    "\n",
    "    return ds_hf, GL_position"
   ]
  },
  {
   "cell_type": "markdown",
   "metadata": {},
   "source": [
    "## Post process"
   ]
  },
  {
   "cell_type": "code",
   "execution_count": null,
   "metadata": {},
   "outputs": [],
   "source": [
    "# Post processing loop for MAIN runs and RETUNED runs\n",
    "dir = '/Volumes/T7/P1_DIR/Model_output/NOcalving/' #'/Users/5941962/surfdrive/P1_DIR/Model_output'\n",
    "exp_names = [ \n",
    "\n",
    "    #MAIN RUNS\n",
    "    'P1_MEDIUM_QUAD_NOcalving',\n",
    "    'P1_MEDIUM_PICO_NOcalving_C023', \n",
    "    'P1_MEDIUM_PLUME_NOcalving',\n",
    "    'P1_MEDIUM_laddie_NOcalving_rhoice_concat',\n",
    "\n",
    "    'P1_WARM_QUAD_NOcalving_modtune',\n",
    "    'P1_WARM_PICO_NOcalving_C023_modtune', \n",
    "    'P1_WARM_PLUME_NOcalving_modtune',\n",
    "    'P1_WARM_laddie_NOcalving_rhoice_concat', \n",
    "\n",
    "    #RETUNED RUNS\n",
    "    'P1_MEDIUM_QUAD_NOcalving_hightune', \n",
    "    'P1_MEDIUM_PICO_NOcalving_C023_hightune', \n",
    "    'P1_MEDIUM_PLUME_NOcalving_hightune', \n",
    "\n",
    "    'P1_WARM_QUAD_NOcalving',\n",
    "    'P1_WARM_PICO_NOcalving_C023', \n",
    "    'P1_WARM_PLUME_NOcalving',\n",
    "]\n",
    "\n",
    "filename = 'help_fields_ANT.nc'\n",
    "combined_list = [f'{dir}/{exp_name}/{filename}' for exp_name in exp_names]\n",
    "\n",
    "\n",
    "for i in range(len(combined_list)):\n",
    "\n",
    "    print(f'Started computation GL position for {exp_names[i]} ...')\n",
    "\n",
    "    # Open file\n",
    "    ds = xr.open_dataset(f'{dir}/{exp_names[i]}/{filename}')\n",
    "\n",
    "    # Compute exact grounding line position from f_grnd\n",
    "    find_exact_GL_position(ds, y_coord=0, add_to_xarray=True, save_to_netcdf=True, savepath=f'../PostProcess/GL_{exp_names[i]}.nc')\n",
    "\n",
    "    print(f'... DONE')\n",
    "    ds.close()"
   ]
  },
  {
   "cell_type": "code",
   "execution_count": null,
   "metadata": {},
   "outputs": [],
   "source": [
    "# Post processing loop for CONTROL & CALVING runs\n",
    "dir = '/Volumes/T7/P1_DIR/Model_output/' #'/Users/5941962/surfdrive/P1_DIR/Model_output'\n",
    "exp_names = [ \n",
    "    #CONTROL RUN\n",
    "    'P1_control',\n",
    "    \n",
    "    #CALVING\n",
    "    'P1_WARM_QUAD_modtune',\n",
    "    'P1_WARM_PICO_C023_modtune', \n",
    "    'P1_WARM_PLUME_modtune',\n",
    "    'P1_WARM_laddie_rhoice_concat', \n",
    "\n",
    "    'P1_MEDIUM_QUAD',\n",
    "    'P1_MEDIUM_PICO_C023', \n",
    "    'P1_MEDIUM_PLUME',\n",
    "    'P1_MEDIUM_laddie_rhoice_concat',\n",
    "]\n",
    "filename = 'help_fields_ANT.nc'\n",
    "combined_list = [f'{dir}/{exp_name}/{filename}' for exp_name in exp_names]\n",
    "\n",
    "\n",
    "for i in range(len(combined_list)):\n",
    "\n",
    "    print(f'Started computation GL position for {exp_names[i]} ...')\n",
    "\n",
    "    # Open file\n",
    "    ds = xr.open_dataset(f'{dir}/{exp_names[i]}/{filename}')\n",
    "\n",
    "    # Compute exact grounding line position from f_grnd\n",
    "    find_exact_GL_position(ds, y_coord=0, add_to_xarray=True, save_to_netcdf=True, savepath=f'../PostProcess/GL_{exp_names[i]}.nc')\n",
    "\n",
    "    print(f'... DONE')\n",
    "    ds.close()"
   ]
  }
 ],
 "metadata": {
  "kernelspec": {
   "display_name": "firstEnv",
   "language": "python",
   "name": "firstenv"
  },
  "language_info": {
   "codemirror_mode": {
    "name": "ipython",
    "version": 3
   },
   "file_extension": ".py",
   "mimetype": "text/x-python",
   "name": "python",
   "nbconvert_exporter": "python",
   "pygments_lexer": "ipython3",
   "version": "3.9.18"
  }
 },
 "nbformat": 4,
 "nbformat_minor": 2
}
