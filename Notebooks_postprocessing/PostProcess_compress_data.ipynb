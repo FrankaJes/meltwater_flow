{
 "cells": [
  {
   "cell_type": "code",
   "execution_count": null,
   "metadata": {},
   "outputs": [],
   "source": [
    "import numpy as np\n",
    "import xarray as xr\n",
    "import matplotlib as mpl\n",
    "import matplotlib.pyplot as plt\n",
    "import cmocean as cmo\n",
    "import matplotlib.animation as animation\n",
    "from matplotlib.colors import LightSource\n",
    "from matplotlib import cm\n",
    "import matplotlib.colors\n",
    "from matplotlib.gridspec import GridSpec"
   ]
  },
  {
   "cell_type": "markdown",
   "metadata": {},
   "source": [
    "### Select 10-yearly data from raw data:\n",
    "\n",
    "\n"
   ]
  },
  {
   "cell_type": "code",
   "execution_count": null,
   "metadata": {},
   "outputs": [],
   "source": [
    "# Read in raw data:\n",
    "data_dir = '/Volumes/T7/P1_DIR/Model_output'\n",
    "\n",
    "M_LAN = xr.open_dataset(f'{data_dir}/NOcalving/P1_MEDIUM_laddie_NOcalving_rhoice_concat/help_fields_ANT.nc')    # LA_M        \n",
    "H_LAN = xr.open_dataset(f'{data_dir}/NOcalving/P1_WARM_laddie_NOcalving_rhoice_concat/help_fields_ANT.nc')      # LA_H     \n",
    "\n",
    "M_LAN_calving = xr.open_dataset(f'{data_dir}/P1_MEDIUM_laddie_rhoice_concat/help_fields_ANT.nc')    # LA_M_calving        \n",
    "H_LAN_calving = xr.open_dataset(f'{data_dir}/P1_WARM_laddie_rhoice_concat/help_fields_ANT.nc')      # LA_H_calving    "
   ]
  },
  {
   "cell_type": "code",
   "execution_count": null,
   "metadata": {},
   "outputs": [],
   "source": [
    "# QU_M, PI_M, PL_M\n",
    "M_QUN = xr.open_dataset(f'{data_dir}/NOcalving/P1_MEDIUM_QUAD_NOcalving/help_fields_ANT.nc')\n",
    "M_PIN = xr.open_dataset(f'{data_dir}/NOcalving/P1_MEDIUM_PICO_NOcalving_C023/help_fields_ANT.nc')\n",
    "M_PLN = xr.open_dataset(f'{data_dir}/NOcalving/P1_MEDIUM_PLUME_NOcalving/help_fields_ANT.nc')\n",
    "\n",
    "# QU_H, PI_H, PL_H\n",
    "H_QUN = xr.open_dataset(f'{data_dir}/NOcalving/P1_WARM_QUAD_NOcalving_modtune/help_fields_ANT.nc')\n",
    "H_PIN = xr.open_dataset(f'{data_dir}/NOcalving/P1_WARM_PICO_NOcalving_C023_modtune/help_fields_ANT.nc')\n",
    "H_PLN = xr.open_dataset(f'{data_dir}/NOcalving/P1_WARM_PLUME_NOcalving_modtune/help_fields_ANT.nc')\n",
    "\n",
    "# RETUNED\n",
    "H_QUN_retuned = xr.open_dataset(f'{data_dir}/NOcalving/P1_WARM_QUAD_NOcalving/help_fields_ANT.nc')\n",
    "H_PIN_retuned = xr.open_dataset(f'{data_dir}/NOcalving/P1_WARM_PICO_NOcalving_C023/help_fields_ANT.nc')\n",
    "H_PLN_retuned = xr.open_dataset(f'{data_dir}/NOcalving/P1_WARM_PLUME_NOcalving/help_fields_ANT.nc')\n",
    "                  \n",
    "# CALVING M\n",
    "M_QUN_calving = xr.open_dataset(f'{data_dir}/P1_MEDIUM_QUAD/help_fields_ANT.nc')\n",
    "M_PIN_calving = xr.open_dataset(f'{data_dir}/P1_MEDIUM_PICO_C023/help_fields_ANT.nc')\n",
    "M_PLN_calving = xr.open_dataset(f'{data_dir}/P1_MEDIUM_PLUME/help_fields_ANT.nc')\n",
    "                          \n",
    "# CALVING M\n",
    "H_QUN_calving = xr.open_dataset(f'{data_dir}/P1_WARM_QUAD_modtune/help_fields_ANT.nc')\n",
    "H_PIN_calving = xr.open_dataset(f'{data_dir}/P1_WARM_PICO_C023_modtune/help_fields_ANT.nc')\n",
    "H_PLN_calving = xr.open_dataset(f'{data_dir}/P1_WARM_PLUME_modtune/help_fields_ANT.nc')"
   ]
  },
  {
   "cell_type": "code",
   "execution_count": null,
   "metadata": {},
   "outputs": [],
   "source": [
    "spinup = xr.open_dataset(f'{data_dir}/../Spinup_IMAU-ICE_MISMIPplus_2km/help_fields_ANT.nc')\n",
    "spinup.to_netcdf('spinup.nc')"
   ]
  },
  {
   "cell_type": "code",
   "execution_count": null,
   "metadata": {},
   "outputs": [],
   "source": [
    "# example to reduce output to 10-yearly output instead of each .125 yr:\n",
    "M_LAN_calving.sel(time=np.arange(0,1001,10)).to_netcdf('/Users/5941962/surfdrive/P1_DIR/Zenodo/model_output/LA_M_calving.nc')\n"
   ]
  }
 ],
 "metadata": {
  "kernelspec": {
   "display_name": "firstEnv",
   "language": "python",
   "name": "firstenv"
  },
  "language_info": {
   "codemirror_mode": {
    "name": "ipython",
    "version": 3
   },
   "file_extension": ".py",
   "mimetype": "text/x-python",
   "name": "python",
   "nbconvert_exporter": "python",
   "pygments_lexer": "ipython3",
   "version": "3.9.18"
  }
 },
 "nbformat": 4,
 "nbformat_minor": 2
}
