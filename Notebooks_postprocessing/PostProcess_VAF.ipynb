{
 "cells": [
  {
   "cell_type": "code",
   "execution_count": 1,
   "metadata": {},
   "outputs": [
    {
     "name": "stdout",
     "output_type": "stream",
     "text": [
      "Intel MKL WARNING: Support of Intel(R) Streaming SIMD Extensions 4.2 (Intel(R) SSE4.2) enabled only processors has been deprecated. Intel oneAPI Math Kernel Library 2025.0 will require Intel(R) Advanced Vector Extensions (Intel(R) AVX) instructions.\n",
      "Intel MKL WARNING: Support of Intel(R) Streaming SIMD Extensions 4.2 (Intel(R) SSE4.2) enabled only processors has been deprecated. Intel oneAPI Math Kernel Library 2025.0 will require Intel(R) Advanced Vector Extensions (Intel(R) AVX) instructions.\n"
     ]
    }
   ],
   "source": [
    "import numpy as np\n",
    "import xarray as xr\n",
    "import matplotlib as mpl\n",
    "import matplotlib.pyplot as plt\n",
    "import cmocean as cmo\n",
    "import pandas as pd\n",
    "import matplotlib.animation as animation\n",
    "from matplotlib.colors import LightSource\n",
    "from matplotlib import cm"
   ]
  },
  {
   "cell_type": "code",
   "execution_count": 2,
   "metadata": {},
   "outputs": [],
   "source": [
    "def compute_VAF(ds, save_to_netcdf=False, savepath=None):\n",
    "\n",
    "    seawater_density = 1028.0\n",
    "    ice_density = 910.0\n",
    "    sealevel = 0\n",
    "\n",
    "    flotation_height = sealevel - ds.Hb * (seawater_density / ice_density)\n",
    "\n",
    "\n",
    "    thickness_above_flotation = np.maximum(0, ds.Hi - np.maximum(0, flotation_height))\n",
    "\n",
    "    volume_above_flotation = thickness_above_flotation * 2000 * 2000\n",
    "    total_vaf = volume_above_flotation.sum(dim=['x','y']) * 910 * 10**(-12)\n",
    "    total_vaf = xr.DataArray(total_vaf, name='VAF')\n",
    "\n",
    "    # Add to the file if wanted\n",
    "    if save_to_netcdf == True:\n",
    "        total_vaf.to_netcdf(savepath)\n",
    "\n",
    "    return total_vaf"
   ]
  },
  {
   "cell_type": "code",
   "execution_count": null,
   "metadata": {},
   "outputs": [],
   "source": [
    "# Post processing loop for MAIN runs and RETUNED runs\n",
    "dir = '/Volumes/T7/P1_DIR/Model_output/NOcalving/' #'/Users/5941962/surfdrive/P1_DIR/Model_output'\n",
    "exp_names = [ \n",
    "\n",
    "    # #MAIN RUNS\n",
    "    'P1_MEDIUM_QUAD_NOcalving',\n",
    "    'P1_MEDIUM_PICO_NOcalving_C023', \n",
    "    'P1_MEDIUM_PLUME_NOcalving',\n",
    "    'P1_MEDIUM_laddie_NOcalving_rhoice_concat',\n",
    "\n",
    "    'P1_WARM_QUAD_NOcalving_modtune',\n",
    "    'P1_WARM_PICO_NOcalving_C023_modtune', \n",
    "    'P1_WARM_PLUME_NOcalving_modtune',\n",
    "    'P1_WARM_laddie_NOcalving_rhoice_concat', \n",
    "\n",
    "    #RETUNED RUNS\n",
    "    'P1_MEDIUM_QUAD_NOcalving_hightune', \n",
    "    'P1_MEDIUM_PICO_NOcalving_C023_hightune', \n",
    "    'P1_MEDIUM_PLUME_NOcalving_hightune', \n",
    "\n",
    "    'P1_WARM_QUAD_NOcalving',\n",
    "    'P1_WARM_PICO_NOcalving_C023', \n",
    "    'P1_WARM_PLUME_NOcalving',\n",
    "]\n",
    "\n",
    "filename = 'help_fields_ANT.nc'\n",
    "combined_list = [f'{dir}/{exp_name}/{filename}' for exp_name in exp_names]\n",
    "\n",
    "\n",
    "for i in range(len(combined_list)):\n",
    "\n",
    "    print(f'Started computation VAF position for {exp_names[i]} ...')\n",
    "\n",
    "    # Open file\n",
    "    ds = xr.open_dataset(f'{dir}/{exp_names[i]}/{filename}')\n",
    "\n",
    "    # Compute exact grounding line position from f_grnd\n",
    "    a = compute_VAF(ds, save_to_netcdf=True, savepath=f'../PostProcess/VAF_{exp_names[i]}.nc')\n",
    "\n",
    "    print(f'... DONE')\n",
    "    ds.close()"
   ]
  },
  {
   "cell_type": "code",
   "execution_count": null,
   "metadata": {},
   "outputs": [],
   "source": [
    "# Post processing loop for CONTROL & CALVING runs\n",
    "dir = '/Volumes/T7/P1_DIR/Model_output/' #'/Users/5941962/surfdrive/P1_DIR/Model_output'\n",
    "exp_names = [ \n",
    "    #CONTROL RUN\n",
    "    'P1_control',\n",
    "    \n",
    "    #CALVING\n",
    "    'P1_WARM_QUAD_modtune',\n",
    "    'P1_WARM_PICO_C023_modtune', \n",
    "    'P1_WARM_PLUME_modtune',\n",
    "    'P1_WARM_laddie_rhoice_concat', \n",
    "\n",
    "    'P1_MEDIUM_QUAD',\n",
    "    'P1_MEDIUM_PICO_C023', \n",
    "    'P1_MEDIUM_PLUME',\n",
    "    'P1_MEDIUM_laddie_rhoice_concat',\n",
    "]\n",
    "\n",
    "filename = 'help_fields_ANT.nc'\n",
    "combined_list = [f'{dir}/{exp_name}/{filename}' for exp_name in exp_names]\n",
    "\n",
    "\n",
    "for i in range(len(combined_list)):\n",
    "\n",
    "    print(f'Started computation VAF position for {exp_names[i]} ...')\n",
    "\n",
    "    # Open file\n",
    "    ds = xr.open_dataset(f'{dir}/{exp_names[i]}/{filename}')\n",
    "\n",
    "    # Compute exact grounding line position from f_grnd\n",
    "    a = compute_VAF(ds, save_to_netcdf=True, savepath=f'../PostProcess/VAF_{exp_names[i]}.nc')\n",
    "\n",
    "    print(f'... DONE')\n",
    "    ds.close()"
   ]
  }
 ],
 "metadata": {
  "kernelspec": {
   "display_name": "firstEnv",
   "language": "python",
   "name": "firstenv"
  },
  "language_info": {
   "codemirror_mode": {
    "name": "ipython",
    "version": 3
   },
   "file_extension": ".py",
   "mimetype": "text/x-python",
   "name": "python",
   "nbconvert_exporter": "python",
   "pygments_lexer": "ipython3",
   "version": "3.9.18"
  }
 },
 "nbformat": 4,
 "nbformat_minor": 2
}
